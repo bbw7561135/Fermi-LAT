{
 "cells": [
  {
   "cell_type": "markdown",
   "metadata": {},
   "source": [
    "# Pointlike Data Format\n",
    "Document the binned data format.\n",
    "\n",
    "This format combines selected events into energy and angular bins for a given time period,  averaging over incident angles for the individual photons. We thus use the appropriate averaged PSF, and assume that the same representation is valid for the entire sky.\n",
    "\n",
    "To measure spectra, one also needs the exposure for the event types and the same time interval. The PSF portion of the instrument response functions is also needed.\n",
    "\n",
    "We start by describing the basic component of this photon data base, a Band. It is a container with the properties:\n",
    "*    Event type, e.g., front/back\n",
    "*    Energy range\n",
    "*    the HEALpix _nside_ parameter, chosen so that the size of a pixel is smaller than the PSF size for that event type and energy, but otherwise arbitrary. It uses RING indexing, which allows any integer.\n",
    "\n",
    "Then the Band contains a __sparse__ list of pairs of HEALpix indices and number of photons--only pixels with at least one photon are in the list. This property is used to make the representation effectively unbinned for energies above 1 GeV.\n",
    "\n",
    "A full dataset is then a list of Band objects. \n",
    "\n",
    "## FITS file format\n",
    "As an example, we load the 7-year Source class data set which was constructed from the FT1 event lists with four energy bins per decade. "
   ]
  },
  {
   "cell_type": "code",
   "execution_count": 1,
   "metadata": {
    "collapsed": false
   },
   "outputs": [
    {
     "name": "stderr",
     "output_type": "stream",
     "text": [
      "/afs/slac/g/glast/groups/catalog/python/anaconda/lib/python2.7/site-packages/IPython/kernel/__init__.py:13: ShimWarning: The `IPython.kernel` package has been deprecated. You should import from ipykernel or jupyter_client instead.\n",
      "  \"You should import from ipykernel or jupyter_client instead.\", ShimWarning)\n"
     ]
    },
    {
     "name": "stdout",
     "output_type": "stream",
     "text": [
      "Filename: /afs/slac/g/glast/groups/catalog//pointlike/fermi/data/P8_P302/7years_zmax105_4bpd.fits\n",
      "No.    Name         Type      Cards   Dimensions   Format\n",
      "0    PRIMARY     PrimaryHDU       9   ()              \n",
      "1    BANDS       BinTableHDU     38   40R x 7C     [1J, 1J, 1D, 1D, 1D, 1D, 1J]   \n",
      "2    PIXELS      BinTableHDU     22   13753048R x 2C   [1J, 1J]   \n",
      "3    GTI         BinTableHDU     19   40304R x 2C   [D, D]   \n"
     ]
    }
   ],
   "source": [
    "%matplotlib inline\n",
    "from astropy.io import fits\n",
    "pass8_data_path = os.path.expandvars('$FERMI/data/P8_P302')\n",
    "binned_photon_data_file = os.path.join(pass8_data_path, '7years_zmax105_4bpd.fits')\n",
    "hdus = fits.open(binned_photon_data_file)\n",
    "hdus.info()"
   ]
  },
  {
   "cell_type": "markdown",
   "metadata": {},
   "source": [
    "There are three tables, labelled BANDS, PIXELS, and GTI\n",
    "### The BANDS table"
   ]
  },
  {
   "cell_type": "code",
   "execution_count": 2,
   "metadata": {
    "collapsed": false
   },
   "outputs": [
    {
     "data": {
      "text/html": [
       "<div style=\"max-height:1000px;max-width:1500px;overflow:auto;\">\n",
       "<table border=\"1\" class=\"dataframe\">\n",
       "  <thead>\n",
       "    <tr style=\"text-align: right;\">\n",
       "      <th></th>\n",
       "      <th>NSIDE</th>\n",
       "      <th>EVENT_CLASS</th>\n",
       "      <th>EMIN</th>\n",
       "      <th>EMAX</th>\n",
       "      <th>COUNT</th>\n",
       "    </tr>\n",
       "  </thead>\n",
       "  <tbody>\n",
       "    <tr>\n",
       "      <th>0</th>\n",
       "      <td> 14</td>\n",
       "      <td> 0</td>\n",
       "      <td>  10.000000</td>\n",
       "      <td>  17.782794</td>\n",
       "      <td>  2352</td>\n",
       "    </tr>\n",
       "    <tr>\n",
       "      <th>1</th>\n",
       "      <td>  8</td>\n",
       "      <td> 1</td>\n",
       "      <td>  10.000000</td>\n",
       "      <td>  17.782794</td>\n",
       "      <td>   768</td>\n",
       "    </tr>\n",
       "    <tr>\n",
       "      <th>2</th>\n",
       "      <td> 22</td>\n",
       "      <td> 0</td>\n",
       "      <td>  17.782794</td>\n",
       "      <td>  31.622777</td>\n",
       "      <td>  5808</td>\n",
       "    </tr>\n",
       "    <tr>\n",
       "      <th>3</th>\n",
       "      <td> 13</td>\n",
       "      <td> 1</td>\n",
       "      <td>  17.782794</td>\n",
       "      <td>  31.622777</td>\n",
       "      <td>  2028</td>\n",
       "    </tr>\n",
       "    <tr>\n",
       "      <th>4</th>\n",
       "      <td> 34</td>\n",
       "      <td> 0</td>\n",
       "      <td>  31.622777</td>\n",
       "      <td>  56.234133</td>\n",
       "      <td> 13872</td>\n",
       "    </tr>\n",
       "    <tr>\n",
       "      <th>5</th>\n",
       "      <td> 21</td>\n",
       "      <td> 1</td>\n",
       "      <td>  31.622777</td>\n",
       "      <td>  56.234133</td>\n",
       "      <td>  5292</td>\n",
       "    </tr>\n",
       "    <tr>\n",
       "      <th>6</th>\n",
       "      <td> 54</td>\n",
       "      <td> 0</td>\n",
       "      <td>  56.234133</td>\n",
       "      <td> 100.000000</td>\n",
       "      <td> 34992</td>\n",
       "    </tr>\n",
       "    <tr>\n",
       "      <th>7</th>\n",
       "      <td> 33</td>\n",
       "      <td> 1</td>\n",
       "      <td>  56.234133</td>\n",
       "      <td> 100.000000</td>\n",
       "      <td> 13068</td>\n",
       "    </tr>\n",
       "    <tr>\n",
       "      <th>8</th>\n",
       "      <td> 86</td>\n",
       "      <td> 0</td>\n",
       "      <td> 100.000000</td>\n",
       "      <td> 177.827941</td>\n",
       "      <td> 88752</td>\n",
       "    </tr>\n",
       "    <tr>\n",
       "      <th>9</th>\n",
       "      <td> 52</td>\n",
       "      <td> 1</td>\n",
       "      <td> 100.000000</td>\n",
       "      <td> 177.827941</td>\n",
       "      <td> 32448</td>\n",
       "    </tr>\n",
       "  </tbody>\n",
       "</table>\n",
       "</div>"
      ],
      "text/plain": [
       "   NSIDE  EVENT_CLASS        EMIN        EMAX  COUNT\n",
       "0     14            0   10.000000   17.782794   2352\n",
       "1      8            1   10.000000   17.782794    768\n",
       "2     22            0   17.782794   31.622777   5808\n",
       "3     13            1   17.782794   31.622777   2028\n",
       "4     34            0   31.622777   56.234133  13872\n",
       "5     21            1   31.622777   56.234133   5292\n",
       "6     54            0   56.234133  100.000000  34992\n",
       "7     33            1   56.234133  100.000000  13068\n",
       "8     86            0  100.000000  177.827941  88752\n",
       "9     52            1  100.000000  177.827941  32448"
      ]
     },
     "execution_count": 2,
     "metadata": {},
     "output_type": "execute_result"
    }
   ],
   "source": [
    "bands = pd.DataFrame(hdus[1].data)\n",
    "bands[:10]['NSIDE EVENT_CLASS EMIN EMAX COUNT'.split()]"
   ]
  },
  {
   "cell_type": "markdown",
   "metadata": {},
   "source": [
    "The columns are:\n",
    "* NSIDE -- HEALPix nside parameter, using RING indexing. It ranges from 8 to 8192\n",
    "* EVENT_CLASS -- an index for the event type \n",
    "* EMIN, EMAX -- range of energies (MeV)\n",
    "* COUNT -- the number of corresponding pixels in the PIXELS table\n",
    "\n",
    "### The PIXELS table\n",
    "This a a list of pairs of integers: (HEALPix index, photon count):"
   ]
  },
  {
   "cell_type": "code",
   "execution_count": 3,
   "metadata": {
    "collapsed": false
   },
   "outputs": [
    {
     "data": {
      "text/html": [
       "<div style=\"max-height:1000px;max-width:1500px;overflow:auto;\">\n",
       "<table border=\"1\" class=\"dataframe\">\n",
       "  <thead>\n",
       "    <tr style=\"text-align: right;\">\n",
       "      <th></th>\n",
       "      <th>INDEX</th>\n",
       "      <th>COUNT</th>\n",
       "    </tr>\n",
       "  </thead>\n",
       "  <tbody>\n",
       "    <tr>\n",
       "      <th>0</th>\n",
       "      <td> 0</td>\n",
       "      <td> 208</td>\n",
       "    </tr>\n",
       "    <tr>\n",
       "      <th>1</th>\n",
       "      <td> 1</td>\n",
       "      <td> 211</td>\n",
       "    </tr>\n",
       "    <tr>\n",
       "      <th>2</th>\n",
       "      <td> 2</td>\n",
       "      <td> 178</td>\n",
       "    </tr>\n",
       "    <tr>\n",
       "      <th>3</th>\n",
       "      <td> 3</td>\n",
       "      <td> 165</td>\n",
       "    </tr>\n",
       "    <tr>\n",
       "      <th>4</th>\n",
       "      <td> 4</td>\n",
       "      <td> 155</td>\n",
       "    </tr>\n",
       "  </tbody>\n",
       "</table>\n",
       "</div>"
      ],
      "text/plain": [
       "   INDEX  COUNT\n",
       "0      0    208\n",
       "1      1    211\n",
       "2      2    178\n",
       "3      3    165\n",
       "4      4    155"
      ]
     },
     "execution_count": 3,
     "metadata": {},
     "output_type": "execute_result"
    }
   ],
   "source": [
    "pixels = pd.DataFrame(hdus[2].data)\n",
    "pixels[:5]"
   ]
  },
  {
   "cell_type": "markdown",
   "metadata": {},
   "source": [
    "The two columns are:\n",
    "* INDEX -- HEALPix index, RING indexing, a number between 0 to $12\\ x\\ {nside}^2$ for the corresponding band.\n",
    "* COUNT -- non-zero number of photons in the pixel.\n",
    "\n",
    "The list is the concatenation of the data for the BANDS, in the same order. The sum of bands.COUNT must equal the length of this table."
   ]
  },
  {
   "cell_type": "code",
   "execution_count": 4,
   "metadata": {
    "collapsed": false
   },
   "outputs": [],
   "source": [
    "assert sum(bands.COUNT)==len(pixels)\n",
    "# sum counts in the BANDS\n",
    "\n",
    "cumindex = np.asarray(bands.COUNT.cumsum(),int)\n",
    "cumcount = np.asarray(pixels.COUNT.cumsum(),int)\n",
    "\n",
    "photon_counts = []\n",
    "start=0\n",
    "for end in cumindex:\n",
    "    photon_counts.append(cumcount[end-1]-cumcount[start])\n",
    "    start = end\n",
    "bands['photons'] = photon_counts\n",
    "bands['pixels'] = bands.COUNT\n",
    "bands['energy'] = np.sqrt(bands.EMAX * bands.EMIN)"
   ]
  },
  {
   "cell_type": "code",
   "execution_count": 5,
   "metadata": {
    "collapsed": false,
    "scrolled": true
   },
   "outputs": [
    {
     "data": {
      "image/png": "[encoded data removed]",
      "text/plain": [
       "<matplotlib.figure.Figure at 0x7f6a7b9146d0>"
      ]
     },
     "metadata": {},
     "output_type": "display_data"
    }
   ],
   "source": [
    "types = set(np.array(bands.EVENT_CLASS,int))\n",
    "fig,axx=plt.subplots(1,len(types), figsize=(12,6), sharex=True, sharey=True)\n",
    "for i,ax in zip(types,axx):\n",
    "    et = bands.EVENT_CLASS==i\n",
    "    ax.loglog(bands.energy[et], bands.photons[et],  'o-', label='Photons');\n",
    "    ax.loglog(bands.energy[et], bands.pixels[et], 'D-', label='Pixels')\n",
    "    ax.legend()\n",
    "    ax.grid(True,alpha=0.5)\n",
    "    plt.setp(ax, xlabel='Energy {MeV}', title='Event type {}'.format(i))\n"
   ]
  },
  {
   "cell_type": "markdown",
   "metadata": {},
   "source": [
    "Note the dramatic change of the number of photons per pixel above 1 GeV, as the flux and PSF become smaller. Without a large advantage for large pixels, we effectively switch to unbinned: nside=8192, the largest value compatible with 32-bit intergers, which corresponds to 26 arcsec.\n",
    "\n",
    "## Load the binned photon data file using C++ code\n",
    "The package [`skymaps`](http://glast.stanford.edu/cgi-bin/cvsweb-SLAC/skymaps/) from the internal Science Tools package has a SWIG python interface to C++ code in it and the external pacakge `astro`. "
   ]
  },
  {
   "cell_type": "code",
   "execution_count": 6,
   "metadata": {
    "collapsed": false
   },
   "outputs": [
    {
     "name": "stdout",
     "output_type": "stream",
     "text": [
      "CPU times: user 12.5 s, sys: 1.72 s, total: 14.2 s\n",
      "Wall time: 14.3 s\n"
     ]
    }
   ],
   "source": [
    "from skymaps import BinnedPhotonData as BPD\n",
    "%time bpd = BPD(binned_photon_data_file)"
   ]
  },
  {
   "cell_type": "markdown",
   "metadata": {},
   "source": [
    "This object is list of `skymaps.Band` objects, containing data from the BAND rows."
   ]
  },
  {
   "cell_type": "markdown",
   "metadata": {},
   "source": [
    "### Extract data for a region of interest\n",
    "The `BinnedPhotonData` object does not extract anything from the PIXELS table.\n",
    "Another C++ class, `skymaps.WeightedSkyDirList`, has a constructor that invokes the *query_disc* HEALPix function, to return a list of pixel positions and associated photon counts for each band. For likelihood calculations, only non-empty pixels are needed. This is important for high energies, where _nside_ is set to 8192, and only a few would have photons.\n",
    "\n",
    "I choose as an example, a very strong, and hard high-latitude point source: Mrk 421 with Galactic coordinates (179.8317, +65.0315).\n",
    "\n",
    "Then I plot the pixels in a 5-degree disk around the source using a pointlike tool, `image.ZEA`, which manages a ZEA projection. "
   ]
  },
  {
   "cell_type": "code",
   "execution_count": 7,
   "metadata": {
    "collapsed": false
   },
   "outputs": [],
   "source": [
    "from skymaps import SkyDir, WeightedSkyDirList\n",
    "from uw.utilities import image\n",
    "center = SkyDir(179.83,65.03, SkyDir.GALACTIC)\n",
    "\n",
    "def plot_pixels(nband, ax, ms=50):\n",
    "    bpdx=bpd[nband]\n",
    "    wsdl = WeightedSkyDirList(bpdx,center , np.radians(5))\n",
    "    print 'Band #{}: Extracted {} photons in {} pixels'.format(nband,wsdl.counts(), wsdl.total_pix())\n",
    "                                                                                 \n",
    "    zea = image.ZEA(center, size=10, galactic=True,axes=ax)\n",
    "    pc = np.array([zea.pixel(s) for s in wsdl])\n",
    "    wt = [s.weight() for s in wsdl]\n",
    "    x,y  = pc[:,0],pc[:,1]\n",
    "    scat =zea.axes.scatter(x,y, c=wt, s=ms, #10000/bpdx.nside(), \n",
    "                           marker='s', edgecolor='none' )\n",
    "    #cb =plt.colorbar(scat)\n",
    "    #cb.set_label('Counts')\n",
    "    ax.set_title('{:.0f} MeV'.format(bands.energy[nband]) );"
   ]
  },
  {
   "cell_type": "code",
   "execution_count": 8,
   "metadata": {
    "collapsed": false
   },
   "outputs": [
    {
     "name": "stdout",
     "output_type": "stream",
     "text": [
      "Band #8: Extracted 23033 photons in 171 pixels\n",
      "Band #16: Extracted 4475 photons in 9461 pixels\n",
      "Band #24: Extracted 529 photons in 1532229 pixels\n"
     ]
    },
    {
     "data": {
      "image/png": "[encoded data removed]",
      "text/plain": [
       "<matplotlib.figure.Figure at 0x7f6a4b0b19d0>"
      ]
     },
     "metadata": {},
     "output_type": "display_data"
    }
   ],
   "source": [
    "fig, axx = plt.subplots(1,3, figsize=(12,4))\n",
    "plot_pixels(8, axx[0],100)\n",
    "plot_pixels(16, axx[1], 10)\n",
    "plot_pixels(24, axx[2],10)"
   ]
  },
  {
   "cell_type": "code",
   "execution_count": null,
   "metadata": {
    "collapsed": true
   },
   "outputs": [],
   "source": []
  }
 ],
 "metadata": {
  "kernelspec": {
   "display_name": "Python 2",
   "language": "python",
   "name": "python2"
  },
  "language_info": {
   "codemirror_mode": {
    "name": "ipython",
    "version": 2
   },
   "file_extension": ".py",
   "mimetype": "text/x-python",
   "name": "python",
   "nbconvert_exporter": "python",
   "pygments_lexer": "ipython2",
   "version": "2.7.11"
  }
 },
 "nbformat": 4,
 "nbformat_minor": 0
}
