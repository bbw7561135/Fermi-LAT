{
 "cells": [
  {
   "cell_type": "code",
   "execution_count": 1,
   "metadata": {},
   "outputs": [],
   "source": [
    "import logging, yaml, glob\n",
    "from uw.like2 import configuration\n",
    "from skymaps import Band\n",
    "from fermipy import gtanalysis\n",
    "reload(gtanalysis)\n",
    "os.chdir(os.path.expandvars('$FERMI/skymodels/P305_8years/uw8210'))\n",
    "os.environ['CUSTOM_IRF_NAMES']='' # it wants this set, but I use CALDB"
   ]
  },
  {
   "cell_type": "code",
   "execution_count": 26,
   "metadata": {},
   "outputs": [
    {
     "name": "stdout",
     "output_type": "stream",
     "text": [
      "CALDB set to  /afs/slac/g/glast/groups/canda/irfs/p8_merit/P8R3_V2/CALDB\n"
     ]
    }
   ],
   "source": [
    "# set up the pointlike configuration, extract stuff\n",
    "\n",
    "cfg = configuration.Configuration('.', quiet=True, postpone=True)\n",
    "os.environ['CALDB']=cfg.caldb\n",
    "print 'CALDB set to ', os.environ['CALDB']\n",
    "irf= cfg.irf\n",
    "roidir = Band(12).dir(100) # choose an arbitrary RoI\n",
    "diffuse_dir =os.path.expandvars('$FERMI/diffuse/') \n",
    "galdiff = diffuse_dir+cfg['diffuse']['ring']['filename']\n",
    "isodiff = [diffuse_dir+cfg['diffuse']['isotrop']['filename'].replace('**',x) for x in('FRONT','BACK')]            "
   ]
  },
  {
   "cell_type": "code",
   "execution_count": 29,
   "metadata": {},
   "outputs": [
    {
     "data": {
      "text/plain": [
       "[{'binning': {'hpx_order': 6},\n",
       "  'model': {'isodiff': '/afs/slac/g/glast/groups/catalog//pointlike/fermi/diffuse/4YP304_P8R2_SOURCE_V6_FRONT_zmax80_EGBfree.txt'},\n",
       "  'name': '00',\n",
       "  'selection': {'emax': 177.82794100389228, 'emin': 100.0, 'evtype': 0}},\n",
       " {'binning': {'hpx_order': 6},\n",
       "  'model': {'isodiff': '/afs/slac/g/glast/groups/catalog//pointlike/fermi/diffuse/4YP304_P8R2_SOURCE_V6_BACK_zmax80_EGBfree.txt'},\n",
       "  'name': '01',\n",
       "  'selection': {'emax': 177.82794100389228, 'emin': 100.0, 'evtype': 1}}]"
      ]
     },
     "execution_count": 29,
     "metadata": {},
     "output_type": "execute_result"
    }
   ],
   "source": [
    "# set up components, here for front back on a single energy range\n",
    "ie=0 #first band\n",
    "\n",
    "order=6 #make depend on ie and evtype\n",
    "components = [dict(dict(name='{:02d}'.format(evtype+2*ie), #gets replaced\n",
    "                        selection=dict(evtype=evtype, emin=10**2+ie/4., emax=10**2.25+ie/4.),\n",
    "                        binning=dict(hpx_order=order), \n",
    "                        model=dict(isodiff=isodiff[evtype]))) \n",
    "              for evtype in (0,1)]\n",
    "components"
   ]
  },
  {
   "cell_type": "code",
   "execution_count": 30,
   "metadata": {},
   "outputs": [
    {
     "data": {
      "text/plain": [
       "{'binning': {'coordsys': 'GAL',\n",
       "  'enumbins': 1,\n",
       "  'hpx_order': 6,\n",
       "  'projtype': 'HPX'},\n",
       " 'components': [{'binning': {'hpx_order': 6},\n",
       "   'model': {'isodiff': '/afs/slac/g/glast/groups/catalog//pointlike/fermi/diffuse/4YP304_P8R2_SOURCE_V6_FRONT_zmax80_EGBfree.txt'},\n",
       "   'name': '00',\n",
       "   'selection': {'emax': 177.82794100389228, 'emin': 100.0, 'evtype': 0}},\n",
       "  {'binning': {'hpx_order': 6},\n",
       "   'model': {'isodiff': '/afs/slac/g/glast/groups/catalog//pointlike/fermi/diffuse/4YP304_P8R2_SOURCE_V6_BACK_zmax80_EGBfree.txt'},\n",
       "   'name': '01',\n",
       "   'selection': {'emax': 177.82794100389228, 'emin': 100.0, 'evtype': 1}}],\n",
       " 'data': {'evfile': '/afs/slac/g/glast/groups/catalog/P8_P305/zmax105/P305_Source_001_zmax105.fits',\n",
       "  'ltcube': '/afs/slac/g/glast/groups/catalog/P8_P302/zmax105/ltcube_001_zmax105.fits',\n",
       "  'scfile': None},\n",
       " 'fileio': {'outdir': 'fermipy'},\n",
       " 'gtlike': {'irfs': 'P8R3_SOURCE_V2'},\n",
       " 'model': {'catalogs': ['3FGL'],\n",
       "  'galdiff': '/afs/slac/g/glast/groups/catalog//pointlike/fermi/diffuse/gll_iem_v06_skymap_trunc_v4.fits',\n",
       "  'isodiff': None,\n",
       "  'sources': []},\n",
       " 'selection': {'dec': 24.200626132, 'ra': 162.387974602}}"
      ]
     },
     "execution_count": 30,
     "metadata": {},
     "output_type": "execute_result"
    }
   ],
   "source": [
    "config = yaml.load(\"\"\"\n",
    "data:\n",
    "    evfile: {ft1}\n",
    "    scfile: null\n",
    "    ltcube: {ltcube}\n",
    "    \n",
    "binning:\n",
    "    projtype: 'HPX'\n",
    "    enumbins: 1\n",
    "    hpx_order: 6 #64 override in components\n",
    "    coordsys: 'GAL'\n",
    "\n",
    "selection:\n",
    "    ra: {ra}\n",
    "    dec: {dec}\n",
    "    #filter: 'ZENITH_ANGLE <= 100'\n",
    "\n",
    "gtlike:\n",
    "    irfs: {irf}\n",
    "    \n",
    "model:\n",
    "    galdiff: {galdiff}\n",
    "    isodiff:\n",
    "    catalogs:\n",
    "        - '3FGL'\n",
    "    sources: []\n",
    "\n",
    "components: {components}\n",
    "\n",
    "fileio:\n",
    "    outdir: 'fermipy'\n",
    "\n",
    "\"\"\".format(ltcube= sorted(glob.glob('/afs/slac/g/glast/groups/catalog/P8_P302/zmax105/ltcube*.fits'))[0],# /cfg.dataset.ltcube, \n",
    "           irf=irf, #'P8R2_SOURCE_V6', #\n",
    "           ft1=sorted(glob.glob('/afs/slac/g/glast/groups/catalog/P8_P305/zmax105/P305*.fits'))[0],\n",
    "           galdiff=galdiff,\n",
    "           components=components,\n",
    "           ra=roidir.ra(),\n",
    "           dec=roidir.dec(),\n",
    "           ))\n",
    "config"
   ]
  },
  {
   "cell_type": "code",
   "execution_count": 31,
   "metadata": {},
   "outputs": [
    {
     "name": "stderr",
     "output_type": "stream",
     "text": [
      "2018-03-28 13:36:36 INFO    GTAnalysis.__init__(): \n",
      "--------------------------------------------------------------------------------\n",
      "fermipy version 0.16.0+170.gf71ab.dirty \n",
      "ScienceTools version ScienceTools-11-05-00\n"
     ]
    }
   ],
   "source": [
    "self = gtanalysis.GTAnalysis(config)"
   ]
  },
  {
   "cell_type": "code",
   "execution_count": 32,
   "metadata": {},
   "outputs": [
    {
     "name": "stderr",
     "output_type": "stream",
     "text": [
      "2018-03-28 13:36:56 INFO    GTAnalysis.setup(): Running setup.\n",
      "2018-03-28 13:36:56 INFO    GTBinnedAnalysis.setup(): Running setup for component 00\n",
      "2018-03-28 13:36:56 INFO    GTBinnedAnalysis._select_data(): Start data selection files: {'ft1': '/nfs/farm/g/glast/g/catalog/pointlike/skymodels/P305_8years/uw8210/fermipy/ft1_00.fits', 'srcmdl': '/nfs/farm/g/glast/g/catalog/pointlike/skymodels/P305_8years/uw8210/fermipy/srcmdl_00.xml', 'ccube': '/nfs/farm/g/glast/g/catalog/pointlike/skymodels/P305_8years/uw8210/fermipy/ccube_00.fits', 'bexpmap': '/nfs/farm/g/glast/g/catalog/pointlike/skymodels/P305_8years/uw8210/fermipy/bexpmap_00.fits', 'ltcube': '/afs/slac/g/glast/groups/catalog/P8_P302/zmax105/ltcube_001_zmax105.fits', 'ft1_filtered': '/nfs/farm/g/glast/g/catalog/pointlike/skymodels/P305_8years/uw8210/fermipy/ft1_filtered_00.fits', 'srcmap': '/nfs/farm/g/glast/g/catalog/pointlike/skymodels/P305_8years/uw8210/fermipy/srcmap_00.fits', 'bexpmap_roi': '/nfs/farm/g/glast/g/catalog/pointlike/skymodels/P305_8years/uw8210/fermipy/bexpmap_roi_00.fits', 'wmap': None, 'ccubemc': '/nfs/farm/g/glast/g/catalog/pointlike/skymodels/P305_8years/uw8210/fermipy/ccubemc_00.fits'}\n",
      "2018-03-28 13:36:56 INFO    GTBinnedAnalysis.run_gtapp(): Running gtselect.\n",
      "2018-03-28 13:36:56 INFO    GTBinnedAnalysis.run_gtapp(): time -p gtselect infile=/afs/slac/g/glast/groups/catalog/P8_P305/zmax105/P305_Source_001_zmax105.fits outfile=/nfs/farm/g/glast/g/catalog/pointlike/skymodels/P305_8years/uw8210/fermipy/ft1_00.fits ra=162.387974602 dec=24.200626132 rad=7.57106781187 tmin=\"INDEF\" tmax=\"INDEF\" emin=100.0 emax=177.827941004 zmin=0.0 zmax=180.0 evclass=\"INDEF\" evtype=0 convtype=-1 phasemin=0.0 phasemax=1.0 evtable=\"EVENTS\" chatter=3 clobber=yes debug=no gui=no mode=\"ql\"\n",
      "2018-03-28 13:37:01 INFO    GTBinnedAnalysis.run_gtapp(): This is gtselect version ScienceTools-11-05-00\n",
      "2018-03-28 13:37:01 INFO    GTBinnedAnalysis.run_gtapp(): Applying filter string: ((EVENT_CLASS&o200) != o0) && angsep(RA,DEC,162.3879746,24.20062613) < 7.571067812 && ((EVENT_TYPE&o0) != o0) && 100 < ENERGY && ENERGY <= 177.82794100399999593 && 0 < ZENITH_ANGLE && ZENITH_ANGLE <= 105 && gtifilter()\n",
      "2018-03-28 13:37:01 INFO    GTBinnedAnalysis.run_gtapp(): Done.\n",
      "2018-03-28 13:37:01 INFO    GTBinnedAnalysis.run_gtapp(): Finished gtselect. Execution time: 5.40 s\n",
      "2018-03-28 13:37:01 INFO    GTBinnedAnalysis.setup(): Using external LT cube.\n",
      "2018-03-28 13:37:01 INFO    GTBinnedAnalysis.run_gtapp(): Running gtbin.\n",
      "2018-03-28 13:37:01 INFO    GTBinnedAnalysis.run_gtapp(): time -p gtbin evfile=/nfs/farm/g/glast/g/catalog/pointlike/skymodels/P305_8years/uw8210/fermipy/ft1_00.fits scfile=NONE outfile=/nfs/farm/g/glast/g/catalog/pointlike/skymodels/P305_8years/uw8210/fermipy/ccube_00.fits algorithm=\"healpix\" ebinalg=\"LOG\" emin=100.0 emax=177.827941004 enumbins=1 denergy=0.0 ebinfile=NONE tbinalg=\"LIN\" tstart=0.0 tstop=0.0 dtime=0.0 tbinfile=NONE snratio=0.0 lcemin=0.0 lcemax=0.0 nxpix=0 nypix=0 binsz=0.0 coordsys=\"GAL\" xref=212.142867628 yref=62.4458571312 axisrot=0.0 rafield=\"RA\" decfield=\"DEC\" proj=\"AIT\" hpx_ordering_scheme=\"RING\" hpx_order=6 hpx_ebin=True hpx_region=\"DISK(212.143,62.446,5.000)\" evtable=\"EVENTS\" sctable=\"SC_DATA\" efield=\"ENERGY\" tfield=\"TIME\" chatter=3 clobber=yes debug=no gui=no mode=\"ql\"\n",
      "2018-03-28 13:37:02 INFO    GTBinnedAnalysis.run_gtapp(): This is gtbin version ScienceTools-11-05-00\n",
      "2018-03-28 13:37:02 INFO    GTBinnedAnalysis.run_gtapp(): gtbin: WARNING: No spacecraft file: EXPOSURE keyword will be set equal to ontime.\n",
      "2018-03-28 13:37:02 INFO    GTBinnedAnalysis.run_gtapp(): Caught N3tip12TipExceptionE at the top level: FitsColumn::getScalar failed to read scalar cell value (CFITSIO ERROR 307: bad first row number)\n",
      "2018-03-28 13:37:02 INFO    GTBinnedAnalysis.run_gtapp(): Finished gtbin. Execution time: 0.67 s\n",
      "2018-03-28 13:37:02 INFO    GTBinnedAnalysis.run_gtapp(): Running gtexpcube2.\n",
      "2018-03-28 13:37:02 INFO    GTBinnedAnalysis.run_gtapp(): time -p gtexpcube2 infile=/afs/slac/g/glast/groups/catalog/P8_P302/zmax105/ltcube_001_zmax105.fits cmap=none outfile=/nfs/farm/g/glast/g/catalog/pointlike/skymodels/P305_8years/uw8210/fermipy/bexpmap_00.fits irfs=\"P8R3_SOURCE_V2\" evtype=0 nxpix=360 nypix=180 binsz=1.0 coordsys=\"GAL\" xref=0.0 yref=0.0 axisrot=0.0 proj=\"CAR\" ebinalg=\"LOG\" emin=100.0 emax=177.827941004 enumbins=1 ebinfile=\"NONE\" bincalc=\"EDGE\" ignorephi=no thmax=180.0 thmin=0.0 table=\"EXPOSURE\" chatter=3 clobber=yes debug=no mode=\"ql\"\n",
      "2018-03-28 13:37:03 INFO    GTBinnedAnalysis.run_gtapp(): This is gtexpcube2 version ScienceTools-11-05-00\n",
      "2018-03-28 13:37:03 INFO    GTBinnedAnalysis.run_gtapp(): Finished gtexpcube2. Execution time: 0.52 s\n"
     ]
    },
    {
     "ename": "IOError",
     "evalue": "[Errno 2] No such file or directory: '/nfs/farm/g/glast/g/catalog/pointlike/skymodels/P305_8years/uw8210/fermipy/bexpmap_00.fits'",
     "output_type": "error",
     "traceback": [
      "\u001b[0;31m\u001b[0m",
      "\u001b[0;31mIOError\u001b[0mTraceback (most recent call last)",
      "\u001b[0;32m<ipython-input-32-3a7ff240ab3d>\u001b[0m in \u001b[0;36m<module>\u001b[0;34m()\u001b[0m\n\u001b[0;32m----> 1\u001b[0;31m \u001b[0mself\u001b[0m\u001b[0;34m.\u001b[0m\u001b[0msetup\u001b[0m\u001b[0;34m(\u001b[0m\u001b[0;34m)\u001b[0m\u001b[0;34m\u001b[0m\u001b[0m\n\u001b[0m",
      "\u001b[0;32m/afs/slac/g/glast/groups/catalog/pointlike/git/fermipy/fermipy/gtanalysis.pyc\u001b[0m in \u001b[0;36msetup\u001b[0;34m(self, init_sources, overwrite, **kwargs)\u001b[0m\n\u001b[1;32m   1032\u001b[0m         \u001b[0;31m# Run setup for each component\u001b[0m\u001b[0;34m\u001b[0m\u001b[0;34m\u001b[0m\u001b[0m\n\u001b[1;32m   1033\u001b[0m         \u001b[0;32mfor\u001b[0m \u001b[0mi\u001b[0m\u001b[0;34m,\u001b[0m \u001b[0mc\u001b[0m \u001b[0;32min\u001b[0m \u001b[0menumerate\u001b[0m\u001b[0;34m(\u001b[0m\u001b[0mself\u001b[0m\u001b[0;34m.\u001b[0m\u001b[0mcomponents\u001b[0m\u001b[0;34m)\u001b[0m\u001b[0;34m:\u001b[0m\u001b[0;34m\u001b[0m\u001b[0m\n\u001b[0;32m-> 1034\u001b[0;31m             \u001b[0mc\u001b[0m\u001b[0;34m.\u001b[0m\u001b[0msetup\u001b[0m\u001b[0;34m(\u001b[0m\u001b[0moverwrite\u001b[0m\u001b[0;34m=\u001b[0m\u001b[0moverwrite\u001b[0m\u001b[0;34m)\u001b[0m\u001b[0;34m\u001b[0m\u001b[0m\n\u001b[0m\u001b[1;32m   1035\u001b[0m \u001b[0;34m\u001b[0m\u001b[0m\n\u001b[1;32m   1036\u001b[0m         \u001b[0;31m# Create likelihood\u001b[0m\u001b[0;34m\u001b[0m\u001b[0;34m\u001b[0m\u001b[0m\n",
      "\u001b[0;32m/afs/slac/g/glast/groups/catalog/pointlike/git/fermipy/fermipy/gtanalysis.pyc\u001b[0m in \u001b[0;36msetup\u001b[0;34m(self, overwrite, **kwargs)\u001b[0m\n\u001b[1;32m   5000\u001b[0m         \u001b[0mhpxhduname\u001b[0m \u001b[0;34m=\u001b[0m \u001b[0;34m\"HPXEXPOSURES\"\u001b[0m\u001b[0;34m\u001b[0m\u001b[0m\n\u001b[1;32m   5001\u001b[0m         \u001b[0;32mtry\u001b[0m\u001b[0;34m:\u001b[0m\u001b[0;34m\u001b[0m\u001b[0m\n\u001b[0;32m-> 5002\u001b[0;31m             \u001b[0mself\u001b[0m\u001b[0;34m.\u001b[0m\u001b[0m_bexp\u001b[0m \u001b[0;34m=\u001b[0m \u001b[0mMap\u001b[0m\u001b[0;34m.\u001b[0m\u001b[0mread\u001b[0m\u001b[0;34m(\u001b[0m\u001b[0mself\u001b[0m\u001b[0;34m.\u001b[0m\u001b[0mfiles\u001b[0m\u001b[0;34m[\u001b[0m\u001b[0;34m'bexpmap'\u001b[0m\u001b[0;34m]\u001b[0m\u001b[0;34m,\u001b[0m \u001b[0mhdu\u001b[0m\u001b[0;34m=\u001b[0m\u001b[0mhpxhduname\u001b[0m\u001b[0;34m)\u001b[0m\u001b[0;34m\u001b[0m\u001b[0m\n\u001b[0m\u001b[1;32m   5003\u001b[0m         \u001b[0;32mexcept\u001b[0m \u001b[0mKeyError\u001b[0m\u001b[0;34m:\u001b[0m\u001b[0;34m\u001b[0m\u001b[0m\n\u001b[1;32m   5004\u001b[0m             \u001b[0mself\u001b[0m\u001b[0;34m.\u001b[0m\u001b[0m_bexp\u001b[0m \u001b[0;34m=\u001b[0m \u001b[0mMap\u001b[0m\u001b[0;34m.\u001b[0m\u001b[0mread\u001b[0m\u001b[0;34m(\u001b[0m\u001b[0mself\u001b[0m\u001b[0;34m.\u001b[0m\u001b[0mfiles\u001b[0m\u001b[0;34m[\u001b[0m\u001b[0;34m'bexpmap'\u001b[0m\u001b[0;34m]\u001b[0m\u001b[0;34m)\u001b[0m\u001b[0;34m\u001b[0m\u001b[0m\n",
      "\u001b[0;32m/afs/slac/g/glast/groups/catalog/pointlike/git/gammapy/gammapy/maps/base.pyc\u001b[0m in \u001b[0;36mread\u001b[0;34m(cls, filename, hdu, hdu_bands, map_type)\u001b[0m\n\u001b[1;32m    133\u001b[0m             \u001b[0mMap\u001b[0m \u001b[0mobject\u001b[0m\u001b[0;34m\u001b[0m\u001b[0m\n\u001b[1;32m    134\u001b[0m         \"\"\"\n\u001b[0;32m--> 135\u001b[0;31m         \u001b[0;32mwith\u001b[0m \u001b[0mfits\u001b[0m\u001b[0;34m.\u001b[0m\u001b[0mopen\u001b[0m\u001b[0;34m(\u001b[0m\u001b[0mfilename\u001b[0m\u001b[0;34m)\u001b[0m \u001b[0;32mas\u001b[0m \u001b[0mhdulist\u001b[0m\u001b[0;34m:\u001b[0m\u001b[0;34m\u001b[0m\u001b[0m\n\u001b[0m\u001b[1;32m    136\u001b[0m             \u001b[0mmap_out\u001b[0m \u001b[0;34m=\u001b[0m \u001b[0mcls\u001b[0m\u001b[0;34m.\u001b[0m\u001b[0mfrom_hdu_list\u001b[0m\u001b[0;34m(\u001b[0m\u001b[0mhdulist\u001b[0m\u001b[0;34m,\u001b[0m \u001b[0mhdu\u001b[0m\u001b[0;34m,\u001b[0m \u001b[0mhdu_bands\u001b[0m\u001b[0;34m,\u001b[0m \u001b[0mmap_type\u001b[0m\u001b[0;34m)\u001b[0m\u001b[0;34m\u001b[0m\u001b[0m\n\u001b[1;32m    137\u001b[0m \u001b[0;34m\u001b[0m\u001b[0m\n",
      "\u001b[0;32m/u/ek/burnett/guburnett/anaconda2/lib/python2.7/site-packages/astropy/io/fits/hdu/hdulist.pyc\u001b[0m in \u001b[0;36mfitsopen\u001b[0;34m(name, mode, memmap, save_backup, cache, lazy_load_hdus, **kwargs)\u001b[0m\n\u001b[1;32m    164\u001b[0m \u001b[0;34m\u001b[0m\u001b[0m\n\u001b[1;32m    165\u001b[0m     return HDUList.fromfile(name, mode, memmap, save_backup, cache,\n\u001b[0;32m--> 166\u001b[0;31m                             lazy_load_hdus, **kwargs)\n\u001b[0m\u001b[1;32m    167\u001b[0m \u001b[0;34m\u001b[0m\u001b[0m\n\u001b[1;32m    168\u001b[0m \u001b[0;34m\u001b[0m\u001b[0m\n",
      "\u001b[0;32m/u/ek/burnett/guburnett/anaconda2/lib/python2.7/site-packages/astropy/io/fits/hdu/hdulist.pyc\u001b[0m in \u001b[0;36mfromfile\u001b[0;34m(cls, fileobj, mode, memmap, save_backup, cache, lazy_load_hdus, **kwargs)\u001b[0m\n\u001b[1;32m    402\u001b[0m         return cls._readfrom(fileobj=fileobj, mode=mode, memmap=memmap,\n\u001b[1;32m    403\u001b[0m                              \u001b[0msave_backup\u001b[0m\u001b[0;34m=\u001b[0m\u001b[0msave_backup\u001b[0m\u001b[0;34m,\u001b[0m \u001b[0mcache\u001b[0m\u001b[0;34m=\u001b[0m\u001b[0mcache\u001b[0m\u001b[0;34m,\u001b[0m\u001b[0;34m\u001b[0m\u001b[0m\n\u001b[0;32m--> 404\u001b[0;31m                              lazy_load_hdus=lazy_load_hdus, **kwargs)\n\u001b[0m\u001b[1;32m    405\u001b[0m \u001b[0;34m\u001b[0m\u001b[0m\n\u001b[1;32m    406\u001b[0m     \u001b[0;34m@\u001b[0m\u001b[0mclassmethod\u001b[0m\u001b[0;34m\u001b[0m\u001b[0m\n",
      "\u001b[0;32m/u/ek/burnett/guburnett/anaconda2/lib/python2.7/site-packages/astropy/io/fits/hdu/hdulist.pyc\u001b[0m in \u001b[0;36m_readfrom\u001b[0;34m(cls, fileobj, data, mode, memmap, save_backup, cache, lazy_load_hdus, **kwargs)\u001b[0m\n\u001b[1;32m   1013\u001b[0m             \u001b[0;32mif\u001b[0m \u001b[0;32mnot\u001b[0m \u001b[0misinstance\u001b[0m\u001b[0;34m(\u001b[0m\u001b[0mfileobj\u001b[0m\u001b[0;34m,\u001b[0m \u001b[0m_File\u001b[0m\u001b[0;34m)\u001b[0m\u001b[0;34m:\u001b[0m\u001b[0;34m\u001b[0m\u001b[0m\n\u001b[1;32m   1014\u001b[0m                 \u001b[0;31m# instantiate a FITS file object (ffo)\u001b[0m\u001b[0;34m\u001b[0m\u001b[0;34m\u001b[0m\u001b[0m\n\u001b[0;32m-> 1015\u001b[0;31m                 \u001b[0mfileobj\u001b[0m \u001b[0;34m=\u001b[0m \u001b[0m_File\u001b[0m\u001b[0;34m(\u001b[0m\u001b[0mfileobj\u001b[0m\u001b[0;34m,\u001b[0m \u001b[0mmode\u001b[0m\u001b[0;34m=\u001b[0m\u001b[0mmode\u001b[0m\u001b[0;34m,\u001b[0m \u001b[0mmemmap\u001b[0m\u001b[0;34m=\u001b[0m\u001b[0mmemmap\u001b[0m\u001b[0;34m,\u001b[0m \u001b[0mcache\u001b[0m\u001b[0;34m=\u001b[0m\u001b[0mcache\u001b[0m\u001b[0;34m)\u001b[0m\u001b[0;34m\u001b[0m\u001b[0m\n\u001b[0m\u001b[1;32m   1016\u001b[0m             \u001b[0;31m# The pyfits mode is determined by the _File initializer if the\u001b[0m\u001b[0;34m\u001b[0m\u001b[0;34m\u001b[0m\u001b[0m\n\u001b[1;32m   1017\u001b[0m             \u001b[0;31m# supplied mode was None\u001b[0m\u001b[0;34m\u001b[0m\u001b[0;34m\u001b[0m\u001b[0m\n",
      "\u001b[0;32m/u/ek/burnett/guburnett/anaconda2/lib/python2.7/site-packages/astropy/utils/decorators.pyc\u001b[0m in \u001b[0;36mwrapper\u001b[0;34m(*args, **kwargs)\u001b[0m\n\u001b[1;32m    505\u001b[0m                         \u001b[0;31m# one with the name of the new argument to the function\u001b[0m\u001b[0;34m\u001b[0m\u001b[0;34m\u001b[0m\u001b[0m\n\u001b[1;32m    506\u001b[0m                         \u001b[0mkwargs\u001b[0m\u001b[0;34m[\u001b[0m\u001b[0mnew_name\u001b[0m\u001b[0;34m[\u001b[0m\u001b[0mi\u001b[0m\u001b[0;34m]\u001b[0m\u001b[0;34m]\u001b[0m \u001b[0;34m=\u001b[0m \u001b[0mvalue\u001b[0m\u001b[0;34m\u001b[0m\u001b[0m\n\u001b[0;32m--> 507\u001b[0;31m             \u001b[0;32mreturn\u001b[0m \u001b[0mfunction\u001b[0m\u001b[0;34m(\u001b[0m\u001b[0;34m*\u001b[0m\u001b[0margs\u001b[0m\u001b[0;34m,\u001b[0m \u001b[0;34m**\u001b[0m\u001b[0mkwargs\u001b[0m\u001b[0;34m)\u001b[0m\u001b[0;34m\u001b[0m\u001b[0m\n\u001b[0m\u001b[1;32m    508\u001b[0m \u001b[0;34m\u001b[0m\u001b[0m\n\u001b[1;32m    509\u001b[0m         \u001b[0;32mreturn\u001b[0m \u001b[0mwrapper\u001b[0m\u001b[0;34m\u001b[0m\u001b[0m\n",
      "\u001b[0;32m/u/ek/burnett/guburnett/anaconda2/lib/python2.7/site-packages/astropy/io/fits/file.pyc\u001b[0m in \u001b[0;36m__init__\u001b[0;34m(self, fileobj, mode, memmap, overwrite, cache)\u001b[0m\n\u001b[1;32m    142\u001b[0m             \u001b[0mself\u001b[0m\u001b[0;34m.\u001b[0m\u001b[0m_open_fileobj\u001b[0m\u001b[0;34m(\u001b[0m\u001b[0mfileobj\u001b[0m\u001b[0;34m,\u001b[0m \u001b[0mmode\u001b[0m\u001b[0;34m,\u001b[0m \u001b[0moverwrite\u001b[0m\u001b[0;34m)\u001b[0m\u001b[0;34m\u001b[0m\u001b[0m\n\u001b[1;32m    143\u001b[0m         \u001b[0;32melif\u001b[0m \u001b[0misinstance\u001b[0m\u001b[0;34m(\u001b[0m\u001b[0mfileobj\u001b[0m\u001b[0;34m,\u001b[0m \u001b[0mstring_types\u001b[0m\u001b[0;34m)\u001b[0m\u001b[0;34m:\u001b[0m\u001b[0;34m\u001b[0m\u001b[0m\n\u001b[0;32m--> 144\u001b[0;31m             \u001b[0mself\u001b[0m\u001b[0;34m.\u001b[0m\u001b[0m_open_filename\u001b[0m\u001b[0;34m(\u001b[0m\u001b[0mfileobj\u001b[0m\u001b[0;34m,\u001b[0m \u001b[0mmode\u001b[0m\u001b[0;34m,\u001b[0m \u001b[0moverwrite\u001b[0m\u001b[0;34m)\u001b[0m\u001b[0;34m\u001b[0m\u001b[0m\n\u001b[0m\u001b[1;32m    145\u001b[0m         \u001b[0;32melse\u001b[0m\u001b[0;34m:\u001b[0m\u001b[0;34m\u001b[0m\u001b[0m\n\u001b[1;32m    146\u001b[0m             \u001b[0mself\u001b[0m\u001b[0;34m.\u001b[0m\u001b[0m_open_filelike\u001b[0m\u001b[0;34m(\u001b[0m\u001b[0mfileobj\u001b[0m\u001b[0;34m,\u001b[0m \u001b[0mmode\u001b[0m\u001b[0;34m,\u001b[0m \u001b[0moverwrite\u001b[0m\u001b[0;34m)\u001b[0m\u001b[0;34m\u001b[0m\u001b[0m\n",
      "\u001b[0;32m/u/ek/burnett/guburnett/anaconda2/lib/python2.7/site-packages/astropy/io/fits/file.pyc\u001b[0m in \u001b[0;36m_open_filename\u001b[0;34m(self, filename, mode, overwrite)\u001b[0m\n\u001b[1;32m    497\u001b[0m             \u001b[0mself\u001b[0m\u001b[0;34m.\u001b[0m\u001b[0m_file\u001b[0m \u001b[0;34m=\u001b[0m \u001b[0mbz2\u001b[0m\u001b[0;34m.\u001b[0m\u001b[0mBZ2File\u001b[0m\u001b[0;34m(\u001b[0m\u001b[0mself\u001b[0m\u001b[0;34m.\u001b[0m\u001b[0mname\u001b[0m\u001b[0;34m,\u001b[0m \u001b[0mbzip2_mode\u001b[0m\u001b[0;34m)\u001b[0m\u001b[0;34m\u001b[0m\u001b[0m\n\u001b[1;32m    498\u001b[0m         \u001b[0;32melse\u001b[0m\u001b[0;34m:\u001b[0m\u001b[0;34m\u001b[0m\u001b[0m\n\u001b[0;32m--> 499\u001b[0;31m             \u001b[0mself\u001b[0m\u001b[0;34m.\u001b[0m\u001b[0m_file\u001b[0m \u001b[0;34m=\u001b[0m \u001b[0mfileobj_open\u001b[0m\u001b[0;34m(\u001b[0m\u001b[0mself\u001b[0m\u001b[0;34m.\u001b[0m\u001b[0mname\u001b[0m\u001b[0;34m,\u001b[0m \u001b[0mIO_FITS_MODES\u001b[0m\u001b[0;34m[\u001b[0m\u001b[0mmode\u001b[0m\u001b[0;34m]\u001b[0m\u001b[0;34m)\u001b[0m\u001b[0;34m\u001b[0m\u001b[0m\n\u001b[0m\u001b[1;32m    500\u001b[0m \u001b[0;34m\u001b[0m\u001b[0m\n\u001b[1;32m    501\u001b[0m         \u001b[0;31m# Make certain we're back at the beginning of the file\u001b[0m\u001b[0;34m\u001b[0m\u001b[0;34m\u001b[0m\u001b[0m\n",
      "\u001b[0;32m/u/ek/burnett/guburnett/anaconda2/lib/python2.7/site-packages/astropy/io/fits/util.pyc\u001b[0m in \u001b[0;36mfileobj_open\u001b[0;34m(filename, mode)\u001b[0m\n\u001b[1;32m    391\u001b[0m         \"\"\"\n\u001b[1;32m    392\u001b[0m \u001b[0;34m\u001b[0m\u001b[0m\n\u001b[0;32m--> 393\u001b[0;31m         \u001b[0;32mreturn\u001b[0m \u001b[0mopen\u001b[0m\u001b[0;34m(\u001b[0m\u001b[0mfilename\u001b[0m\u001b[0;34m,\u001b[0m \u001b[0mmode\u001b[0m\u001b[0;34m)\u001b[0m\u001b[0;34m\u001b[0m\u001b[0m\n\u001b[0m\u001b[1;32m    394\u001b[0m \u001b[0;32melse\u001b[0m\u001b[0;34m:\u001b[0m\u001b[0;34m\u001b[0m\u001b[0m\n\u001b[1;32m    395\u001b[0m     \u001b[0;32mdef\u001b[0m \u001b[0mfileobj_open\u001b[0m\u001b[0;34m(\u001b[0m\u001b[0mfilename\u001b[0m\u001b[0;34m,\u001b[0m \u001b[0mmode\u001b[0m\u001b[0;34m)\u001b[0m\u001b[0;34m:\u001b[0m\u001b[0;34m\u001b[0m\u001b[0m\n",
      "\u001b[0;31mIOError\u001b[0m: [Errno 2] No such file or directory: '/nfs/farm/g/glast/g/catalog/pointlike/skymodels/P305_8years/uw8210/fermipy/bexpmap_00.fits'"
     ]
    }
   ],
   "source": [
    "self.setup() "
   ]
  },
  {
   "cell_type": "code",
   "execution_count": 102,
   "metadata": {},
   "outputs": [
    {
     "data": {
      "text/plain": [
       "[('data',\n",
       "  {'cacheft1': True,\n",
       "   'evfile': '/afs/slac/g/glast/groups/catalog/P8_P305/zmax105/P305_Source_001_zmax105.fits',\n",
       "   'ltcube': '/afs/slac/g/glast/groups/catalog//pointlike/fermi/data/../../../P8_P305/ltcube_8years_zmax100.fits',\n",
       "   'scfile': None}),\n",
       " ('binning',\n",
       "  {'binsperdec': 8.0,\n",
       "   'binsz': 0.1,\n",
       "   'coordsys': 'GAL',\n",
       "   'enumbins': None,\n",
       "   'hpx_ebin': True,\n",
       "   'hpx_order': 6,\n",
       "   'hpx_ordering_scheme': 'RING',\n",
       "   'npix': None,\n",
       "   'proj': 'AIT',\n",
       "   'projtype': 'HPX',\n",
       "   'roiwidth': 10.0}),\n",
       " ('selection',\n",
       "  {'convtype': None,\n",
       "   'dec': 24.200626132,\n",
       "   'emax': None,\n",
       "   'emin': None,\n",
       "   'evclass': None,\n",
       "   'evtype': None,\n",
       "   'filter': None,\n",
       "   'glat': None,\n",
       "   'glon': None,\n",
       "   'logemax': None,\n",
       "   'logemin': None,\n",
       "   'phasemax': None,\n",
       "   'phasemin': None,\n",
       "   'ra': 162.387974602,\n",
       "   'radius': None,\n",
       "   'roicut': 'no',\n",
       "   'target': None,\n",
       "   'tmax': None,\n",
       "   'tmin': None,\n",
       "   'zmax': None}),\n",
       " ('gtlike',\n",
       "  {'bexpmap': None,\n",
       "   'bexpmap_base': None,\n",
       "   'bexpmap_roi': None,\n",
       "   'bexpmap_roi_base': None,\n",
       "   'convolve': True,\n",
       "   'edisp': True,\n",
       "   'edisp_disable': [],\n",
       "   'expscale': None,\n",
       "   'irfs': 'P8R2_SOURCE_V6',\n",
       "   'llscan_npts': 20,\n",
       "   'minbinsz': 0.05,\n",
       "   'resample': True,\n",
       "   'rfactor': 2,\n",
       "   'src_expscale': {},\n",
       "   'srcmap': None,\n",
       "   'srcmap_base': None,\n",
       "   'use_external_srcmap': False,\n",
       "   'use_scaled_srcmap': False,\n",
       "   'wmap': None}),\n",
       " ('fileio',\n",
       "  {'logfile': 'log.txt',\n",
       "   'outdir': 'fermipy',\n",
       "   'outdir_regex': ['\\\\.fits$|\\\\.fit$|\\\\.xml$|\\\\.npy$|\\\\.png$|\\\\.pdf$|\\\\.yaml$'],\n",
       "   'savefits': True,\n",
       "   'scratchdir': '/scratch',\n",
       "   'usescratch': False,\n",
       "   'workdir': '/nfs/farm/g/glast/g/catalog/pointlike/skymodels/P305_8years/uw8210/fermipy',\n",
       "   'workdir_regex': ['\\\\.fits$|\\\\.fit$|\\\\.xml$|\\\\.npy$']}),\n",
       " ('components',\n",
       "  [{'model': {'isodiff': '/afs/slac/g/glast/groups/catalog//pointlike/fermi/diffuse/4YP304_P8R2_SOURCE_V6_FRONT_zmax80_EGBfree.txt'},\n",
       "    'selection': {'emax': 177.82794100389228, 'emin': 100.0, 'evtype': 0}},\n",
       "   {'model': {'isodiff': '/afs/slac/g/glast/groups/catalog//pointlike/fermi/diffuse/4YP304_P8R2_SOURCE_V6_BACK_zmax80_EGBfree.txt'},\n",
       "    'selection': {'emax': 177.82794100389228, 'emin': 100.0, 'evtype': 1}}])]"
      ]
     },
     "execution_count": 102,
     "metadata": {},
     "output_type": "execute_result"
    }
   ],
   "source": [
    "[(x, self.config[x]) for x in 'data binning selection gtlike fileio components'.split()]"
   ]
  }
 ],
 "metadata": {
  "kernelspec": {
   "display_name": "Python 2",
   "language": "python",
   "name": "python2"
  },
  "language_info": {
   "codemirror_mode": {
    "name": "ipython",
    "version": 2
   },
   "file_extension": ".py",
   "mimetype": "text/x-python",
   "name": "python",
   "nbconvert_exporter": "python",
   "pygments_lexer": "ipython2",
   "version": "2.7.14"
  }
 },
 "nbformat": 4,
 "nbformat_minor": 2
}
