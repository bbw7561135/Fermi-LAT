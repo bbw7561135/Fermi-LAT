{
 "cells": [
  {
   "cell_type": "markdown",
   "metadata": {},
   "source": [
    "# Develop code to use fermipy with pointlike binning\n",
    "\n",
    "Try new ccube version, assuming 8-year data set"
   ]
  },
  {
   "cell_type": "code",
   "execution_count": 5,
   "metadata": {},
   "outputs": [
    {
     "data": {
      "text/plain": [
       "<module 'uw.like2.uw_gtanalysis' from '/afs/slac/g/glast/groups/catalog/pointlike/git/pointlike/python/uw/like2/uw_gtanalysis.py'>"
      ]
     },
     "execution_count": 5,
     "metadata": {},
     "output_type": "execute_result"
    }
   ],
   "source": [
    "os.chdir(os.path.expandvars('$FERMI/skymodels/P305_8years/FL8Y_v4'))\n",
    "from uw.like2 import uw_gtanalysis as uwgt; reload(uwgt)"
   ]
  },
  {
   "cell_type": "markdown",
   "metadata": {},
   "source": [
    "### Create object with access to pointlike all-sky model\n",
    "Sets up bexmap and ccube files to bypass that part of gtanalysis setup code"
   ]
  },
  {
   "cell_type": "code",
   "execution_count": 6,
   "metadata": {},
   "outputs": [
    {
     "name": "stdout",
     "output_type": "stream",
     "text": [
      "start UW interface to fermipy in folder /nfs/farm/g/glast/g/catalog/pointlike/skymodels/P305_8years/FL8Y_v4\n",
      "CALDB set to /nfs/farm/g/glast/u35/ReleaseManagerBuild/redhat6-x86_64-64bit-gcc44/Optimized/ScienceTools/11-05-00/irfs/caldb/CALDB for irf P8R2_SOURCE_V6\n"
     ]
    }
   ],
   "source": [
    "uwa = uwgt.UWtoGT('.', False)"
   ]
  },
  {
   "cell_type": "markdown",
   "metadata": {},
   "source": [
    "### It defines a function which returns a GTAnalysis object with components setup\n",
    "\n",
    "Here I specify the pointlike ROI # 100 (very high latitude), and limit the number of components to 2, front and back in the first energy band"
   ]
  },
  {
   "cell_type": "code",
   "execution_count": 7,
   "metadata": {},
   "outputs": [
    {
     "name": "stderr",
     "output_type": "stream",
     "text": [
      "2018-05-02 10:24:42 INFO    GTAnalysis.__init__(): \n",
      "--------------------------------------------------------------------------------\n",
      "fermipy version 0.16.0+170.gf71ab.dirty \n",
      "ScienceTools version ScienceTools-11-05-00\n"
     ]
    },
    {
     "name": "stdout",
     "output_type": "stream",
     "text": [
      "skipping /afs/slac/g/glast/groups/catalog//pointlike/fermi/data/P8_P305/8years_bexpmap/bexpmap_00.fits\n",
      "skipping /afs/slac/g/glast/groups/catalog//pointlike/fermi/data/P8_P305/8years_bexpmap/bexpmap_01.fits\n",
      "Create the gtanalysis\n"
     ]
    },
    {
     "name": "stderr",
     "output_type": "stream",
     "text": [
      "2018-05-02 10:24:43 INFO    GTBinnedAnalysis.run_gtapp(): Running gtsrcmaps.\n",
      "2018-05-02 10:24:43 INFO    GTBinnedAnalysis.run_gtapp(): time -p gtsrcmaps scfile= sctable=\"SC_DATA\" expcube=/afs/slac/g/glast/groups/catalog//pointlike/fermi/data/../../../P8_P305/ltcube_8years_zmax100.fits cmap=/afs/slac/g/glast/groups/catalog//pointlike/fermi/data/P8_P305/8years_ccube/0100/ccube_00.fits srcmdl=/nfs/farm/g/glast/g/catalog/pointlike/skymodels/P305_8years/FL8Y_v4/fermipy/srcmdl_00.xml bexpmap=/afs/slac/g/glast/groups/catalog//pointlike/fermi/data/P8_P305/8years_bexpmap/bexpmap_00.fits wmap=none outfile=/nfs/farm/g/glast/g/catalog/pointlike/skymodels/P305_8years/FL8Y_v4/fermipy/srcmap_00.fits irfs=\"P8R2_SOURCE_V6\" evtype=1 convol=yes resample=yes rfactor=2 minbinsz=0.05 ptsrc=yes psfcorr=yes emapbnds=no copyall=no chatter=3 clobber=yes debug=yes gui=no mode=\"ql\"\n"
     ]
    },
    {
     "name": "stdout",
     "output_type": "stream",
     "text": [
      "Checking srcmap files\n",
      "Will create srcmap files\n"
     ]
    },
    {
     "name": "stderr",
     "output_type": "stream",
     "text": [
      "2018-05-02 10:24:46 INFO    GTBinnedAnalysis.run_gtapp(): This is gtsrcmaps version ScienceTools-11-05-00\n",
      "2018-05-02 10:24:46 INFO    GTBinnedAnalysis.run_gtapp(): ResponseFunctions::load: IRF used: P8R2_SOURCE_V6\n",
      "2018-05-02 10:24:46 INFO    GTBinnedAnalysis.run_gtapp(): event_types:  0\n",
      "2018-05-02 10:24:46 INFO    GTBinnedAnalysis.run_gtapp(): terminate called after throwing an instance of 'std::length_error'\n",
      "2018-05-02 10:24:46 INFO    GTBinnedAnalysis.run_gtapp(): what():  HistND::setSlice:\n",
      "2018-05-02 10:24:46 INFO    GTBinnedAnalysis.run_gtapp(): length of input data != histogram slice size.\n",
      "2018-05-02 10:24:46 INFO    GTBinnedAnalysis.run_gtapp(): Finished gtsrcmaps. Execution time: 2.40 s\n",
      "2018-05-02 10:24:46 ERROR   GTBinnedAnalysis.run_gtapp(): gtsrcmaps failed to create file /nfs/farm/g/glast/g/catalog/pointlike/skymodels/P305_8years/FL8Y_v4/fermipy/srcmap_00.fits\n",
      "gtsrcmaps keywords:\n",
      "  minbinsz  : 0.05\n",
      "  irfs      : P8R2_SOURCE_V6\n",
      "  srcmdl    : /nfs/farm/g/glast/g/catalog/pointlike/skymodels/P305_8years/FL8Y_v4/fermipy/srcmdl_00.xml\n",
      "  emapbnds  : no\n",
      "  expcube   : /afs/slac/g/glast/groups/catalog//pointlike/fermi/data/../../../P8_P305/ltcube_8years_zmax100.fits\n",
      "  chatter   : 3\n",
      "  bexpmap   : /afs/slac/g/glast/groups/catalog//pointlike/fermi/data/P8_P305/8years_bexpmap/bexpmap_00.fits\n",
      "  outfile   : /nfs/farm/g/glast/g/catalog/pointlike/skymodels/P305_8years/FL8Y_v4/fermipy/srcmap_00.fits\n",
      "  cmap      : /afs/slac/g/glast/groups/catalog//pointlike/fermi/data/P8_P305/8years_ccube/0100/ccube_00.fits\n",
      "  evtype    : 1\n",
      "  rfactor   : 2\n"
     ]
    },
    {
     "name": "stdout",
     "output_type": "stream",
     "text": [
      "Failed srcmap creation\n"
     ]
    }
   ],
   "source": [
    "gta = uwa(roi_index=100, ncomp=2, overwrite=False) "
   ]
  },
  {
   "cell_type": "markdown",
   "metadata": {},
   "source": [
    "### Check config"
   ]
  },
  {
   "cell_type": "code",
   "execution_count": 8,
   "metadata": {},
   "outputs": [
    {
     "data": {
      "text/plain": [
       "{'binning': {'enumbins': 1, 'hpx_order': 6},\n",
       " 'model': {'galdiff': '/afs/slac/g/glast/groups/catalog//pointlike/fermi/diffuse/gll_iem_v06.fits',\n",
       "  'isodiff': '/afs/slac/g/glast/groups/catalog//pointlike/fermi/diffuse/4YP304_P8R2_SOURCE_V6_FRONT_zmax80_EGBfree.txt'},\n",
       " 'name': '00',\n",
       " 'selection': {'emax': 0.17782794100389232, 'emin': 0.1, 'evtype': 1}}"
      ]
     },
     "execution_count": 8,
     "metadata": {},
     "output_type": "execute_result"
    }
   ],
   "source": [
    "gta.config['components'][0]"
   ]
  },
  {
   "cell_type": "code",
   "execution_count": 9,
   "metadata": {},
   "outputs": [
    {
     "data": {
      "text/plain": [
       "{'assoc_xmatch_columns': ['3FGL_Name'],\n",
       " 'catalogs': [],\n",
       " 'diffuse': [],\n",
       " 'diffuse_dir': [],\n",
       " 'extdir': None,\n",
       " 'extract_diffuse': False,\n",
       " 'galdiff': ['/afs/slac/g/glast/groups/catalog//pointlike/fermi/diffuse/gll_iem_v06.fits'],\n",
       " 'isodiff': None,\n",
       " 'limbdiff': [],\n",
       " 'merge_sources': True,\n",
       " 'sources': [],\n",
       " 'src_radius': None,\n",
       " 'src_radius_roi': None,\n",
       " 'src_roiwidth': None}"
      ]
     },
     "execution_count": 9,
     "metadata": {},
     "output_type": "execute_result"
    }
   ],
   "source": [
    "gta.config['model']"
   ]
  },
  {
   "cell_type": "code",
   "execution_count": 10,
   "metadata": {},
   "outputs": [
    {
     "data": {
      "text/plain": [
       "[<fermipy.roi_model.IsoSource at 0x7f12f671f210>,\n",
       " <fermipy.roi_model.MapCubeSource at 0x7f12f675f410>]"
      ]
     },
     "execution_count": 10,
     "metadata": {},
     "output_type": "execute_result"
    }
   ],
   "source": [
    "gta.roi.sources"
   ]
  },
  {
   "cell_type": "code",
   "execution_count": null,
   "metadata": {},
   "outputs": [],
   "source": []
  }
 ],
 "metadata": {
  "kernelspec": {
   "display_name": "Python 2",
   "language": "python",
   "name": "python2"
  },
  "language_info": {
   "codemirror_mode": {
    "name": "ipython",
    "version": 2
   },
   "file_extension": ".py",
   "mimetype": "text/x-python",
   "name": "python",
   "nbconvert_exporter": "python",
   "pygments_lexer": "ipython2",
   "version": "2.7.14"
  }
 },
 "nbformat": 4,
 "nbformat_minor": 2
}
