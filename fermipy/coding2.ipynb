{
 "cells": [
  {
   "cell_type": "markdown",
   "metadata": {},
   "source": [
    "# Develop code to use fermipy with pointlike binning\n",
    "\n",
    "Try new ccube version, assuming 8-year data set"
   ]
  },
  {
   "cell_type": "code",
   "execution_count": 1,
   "metadata": {},
   "outputs": [],
   "source": [
    "import logging, yaml, glob\n",
    "from uw.like2 import configuration\n",
    "from skymaps import Band\n",
    "from fermipy import (gtanalysis, defaults,)\n",
    "reload(gtanalysis)\n",
    "os.chdir(os.path.expandvars('$FERMI/skymodels/P305_8years/FL8Y_v4'))"
   ]
  },
  {
   "cell_type": "code",
   "execution_count": 2,
   "metadata": {},
   "outputs": [
    {
     "name": "stdout",
     "output_type": "stream",
     "text": [
      "start UW interface to fermipy in folder /nfs/farm/g/glast/g/catalog/pointlike/skymodels/P305_8years/FL8Y_v4\n",
      "CALDB set to /nfs/farm/g/glast/u35/ReleaseManagerBuild/redhat6-x86_64-64bit-gcc44/Optimized/ScienceTools/11-05-00/irfs/caldb/CALDB for irf P8R2_SOURCE_V6\n"
     ]
    }
   ],
   "source": [
    "from uw.like2 import uw_gtanalysis as uwgt; reload(uwgt)\n",
    "uwa = uwgt.UWtoGT('.', False)"
   ]
  },
  {
   "cell_type": "code",
   "execution_count": 3,
   "metadata": {},
   "outputs": [
    {
     "name": "stderr",
     "output_type": "stream",
     "text": [
      "2018-04-29 08:06:13 INFO    GTAnalysis.__init__(): \n",
      "--------------------------------------------------------------------------------\n",
      "fermipy version 0.16.0+170.gf71ab.dirty \n",
      "ScienceTools version ScienceTools-11-05-00\n"
     ]
    },
    {
     "name": "stdout",
     "output_type": "stream",
     "text": [
      "skipping /afs/slac/g/glast/groups/catalog//pointlike/fermi/data/P8_P305/8years_bexpmap/bexpmap_00.fits\n",
      "skipping /afs/slac/g/glast/groups/catalog//pointlike/fermi/data/P8_P305/8years_bexpmap/bexpmap_01.fits\n",
      "Ready to setup gtanalysis\n"
     ]
    }
   ],
   "source": [
    "self = uwa(roi_index=100, ncomp=2, overwrite=False) "
   ]
  },
  {
   "cell_type": "code",
   "execution_count": 6,
   "metadata": {},
   "outputs": [
    {
     "name": "stderr",
     "output_type": "stream",
     "text": [
      "2018-04-29 08:45:32 INFO    GTBinnedAnalysis.run_gtapp(): Running gtsrcmaps.\n",
      "2018-04-29 08:45:32 INFO    GTBinnedAnalysis.run_gtapp(): time -p gtsrcmaps scfile= sctable=\"SC_DATA\" expcube=/afs/slac/g/glast/groups/catalog//pointlike/fermi/data/../../../P8_P305/ltcube_8years_zmax100.fits cmap=/afs/slac/g/glast/groups/catalog//pointlike/fermi/data/P8_P305/8years_ccube/0100/ccube_00.fits srcmdl=/nfs/farm/g/glast/g/catalog/pointlike/skymodels/P305_8years/FL8Y_v4/fermipy/srcmdl_00.xml bexpmap=/afs/slac/g/glast/groups/catalog//pointlike/fermi/data/P8_P305/8years_bexpmap/bexpmap_00.fits wmap=none outfile=/nfs/farm/g/glast/g/catalog/pointlike/skymodels/P305_8years/FL8Y_v4/fermipy/srcmap_00.fits irfs=\"P8R2_SOURCE_V6\" evtype=1 convol=yes resample=yes rfactor=2 minbinsz=0.05 ptsrc=yes psfcorr=yes emapbnds=no copyall=no chatter=3 clobber=yes debug=yes gui=no mode=\"ql\"\n",
      "2018-04-29 08:45:33 INFO    GTBinnedAnalysis.run_gtapp(): This is gtsrcmaps version ScienceTools-11-05-00\n",
      "2018-04-29 08:45:33 INFO    GTBinnedAnalysis.run_gtapp(): ResponseFunctions::load: IRF used: P8R2_SOURCE_V6\n",
      "2018-04-29 08:45:33 INFO    GTBinnedAnalysis.run_gtapp(): event_types:  0\n",
      "2018-04-29 08:45:33 INFO    GTBinnedAnalysis.run_gtapp(): terminate called after throwing an instance of 'std::length_error'\n",
      "2018-04-29 08:45:33 INFO    GTBinnedAnalysis.run_gtapp(): what():  HistND::setSlice:\n",
      "2018-04-29 08:45:33 INFO    GTBinnedAnalysis.run_gtapp(): length of input data != histogram slice size.\n",
      "2018-04-29 08:45:33 INFO    GTBinnedAnalysis.run_gtapp(): Finished gtsrcmaps. Execution time: 0.98 s\n",
      "2018-04-29 08:45:33 ERROR   GTBinnedAnalysis.run_gtapp(): gtsrcmaps failed to create file /nfs/farm/g/glast/g/catalog/pointlike/skymodels/P305_8years/FL8Y_v4/fermipy/srcmap_00.fits\n",
      "gtsrcmaps keywords:\n",
      "  minbinsz  : 0.05\n",
      "  irfs      : P8R2_SOURCE_V6\n",
      "  srcmdl    : /nfs/farm/g/glast/g/catalog/pointlike/skymodels/P305_8years/FL8Y_v4/fermipy/srcmdl_00.xml\n",
      "  emapbnds  : no\n",
      "  expcube   : /afs/slac/g/glast/groups/catalog//pointlike/fermi/data/../../../P8_P305/ltcube_8years_zmax100.fits\n",
      "  chatter   : 3\n",
      "  bexpmap   : /afs/slac/g/glast/groups/catalog//pointlike/fermi/data/P8_P305/8years_bexpmap/bexpmap_00.fits\n",
      "  outfile   : /nfs/farm/g/glast/g/catalog/pointlike/skymodels/P305_8years/FL8Y_v4/fermipy/srcmap_00.fits\n",
      "  cmap      : /afs/slac/g/glast/groups/catalog//pointlike/fermi/data/P8_P305/8years_ccube/0100/ccube_00.fits\n",
      "  evtype    : 1\n",
      "  rfactor   : 2\n"
     ]
    },
    {
     "ename": "Exception",
     "evalue": "gtsrcmaps failed to create file /nfs/farm/g/glast/g/catalog/pointlike/skymodels/P305_8years/FL8Y_v4/fermipy/srcmap_00.fits",
     "output_type": "error",
     "traceback": [
      "\u001b[0;31m\u001b[0m",
      "\u001b[0;31mException\u001b[0mTraceback (most recent call last)",
      "\u001b[0;32m<ipython-input-6-ebde948d7872>\u001b[0m in \u001b[0;36m<module>\u001b[0;34m()\u001b[0m\n\u001b[0;32m----> 1\u001b[0;31m \u001b[0mself\u001b[0m\u001b[0;34m[\u001b[0m\u001b[0;36m0\u001b[0m\u001b[0;34m]\u001b[0m\u001b[0;34m.\u001b[0m\u001b[0m_create_srcmaps\u001b[0m\u001b[0;34m(\u001b[0m\u001b[0;34m)\u001b[0m\u001b[0;34m\u001b[0m\u001b[0m\n\u001b[0m",
      "\u001b[0;32m/afs/slac/g/glast/groups/catalog/pointlike/git/fermipy/fermipy/gtanalysis.pyc\u001b[0m in \u001b[0;36m_create_srcmaps\u001b[0;34m(self, overwrite, **kwargs)\u001b[0m\n\u001b[1;32m   5271\u001b[0m                                self.files['srcmap'])\n\u001b[1;32m   5272\u001b[0m         \u001b[0;32melse\u001b[0m\u001b[0;34m:\u001b[0m\u001b[0;34m\u001b[0m\u001b[0m\n\u001b[0;32m-> 5273\u001b[0;31m             \u001b[0mrun_gtapp\u001b[0m\u001b[0;34m(\u001b[0m\u001b[0;34m'gtsrcmaps'\u001b[0m\u001b[0;34m,\u001b[0m \u001b[0mself\u001b[0m\u001b[0;34m.\u001b[0m\u001b[0mlogger\u001b[0m\u001b[0;34m,\u001b[0m \u001b[0mkw\u001b[0m\u001b[0;34m,\u001b[0m \u001b[0mloglevel\u001b[0m\u001b[0;34m=\u001b[0m\u001b[0mloglevel\u001b[0m\u001b[0;34m)\u001b[0m\u001b[0;34m\u001b[0m\u001b[0m\n\u001b[0m\u001b[1;32m   5274\u001b[0m \u001b[0;34m\u001b[0m\u001b[0m\n\u001b[1;32m   5275\u001b[0m     \u001b[0;32mdef\u001b[0m \u001b[0m_create_binned_analysis\u001b[0m\u001b[0;34m(\u001b[0m\u001b[0mself\u001b[0m\u001b[0;34m,\u001b[0m \u001b[0mxmlfile\u001b[0m\u001b[0;34m=\u001b[0m\u001b[0mNone\u001b[0m\u001b[0;34m,\u001b[0m \u001b[0;34m**\u001b[0m\u001b[0mkwargs\u001b[0m\u001b[0;34m)\u001b[0m\u001b[0;34m:\u001b[0m\u001b[0;34m\u001b[0m\u001b[0m\n",
      "\u001b[0;32m/afs/slac/g/glast/groups/catalog/pointlike/git/fermipy/fermipy/gtanalysis.pyc\u001b[0m in \u001b[0;36mrun_gtapp\u001b[0;34m(appname, logger, kw, **kwargs)\u001b[0m\n\u001b[1;32m    215\u001b[0m             \u001b[0mmsg\u001b[0m\u001b[0;34m+=\u001b[0m\u001b[0;34m(\u001b[0m\u001b[0;34m'\\n  {:10s}: {}'\u001b[0m\u001b[0;34m.\u001b[0m\u001b[0mformat\u001b[0m\u001b[0;34m(\u001b[0m\u001b[0mk\u001b[0m\u001b[0;34m,\u001b[0m\u001b[0mv\u001b[0m\u001b[0;34m)\u001b[0m\u001b[0;34m)\u001b[0m\u001b[0;34m\u001b[0m\u001b[0m\n\u001b[1;32m    216\u001b[0m         \u001b[0mlogger\u001b[0m\u001b[0;34m.\u001b[0m\u001b[0merror\u001b[0m\u001b[0;34m(\u001b[0m \u001b[0mmsg\u001b[0m \u001b[0;34m)\u001b[0m\u001b[0;34m\u001b[0m\u001b[0m\n\u001b[0;32m--> 217\u001b[0;31m         \u001b[0;32mraise\u001b[0m \u001b[0mException\u001b[0m\u001b[0;34m(\u001b[0m\u001b[0memsg\u001b[0m\u001b[0;34m)\u001b[0m\u001b[0;34m\u001b[0m\u001b[0m\n\u001b[0m\u001b[1;32m    218\u001b[0m     \u001b[0;31m# if appname=='gtselect':\u001b[0m\u001b[0;34m\u001b[0m\u001b[0;34m\u001b[0m\u001b[0m\n\u001b[1;32m    219\u001b[0m     \u001b[0;31m#     nev =fits.open(outfile)[1].header['naxis2']\u001b[0m\u001b[0;34m\u001b[0m\u001b[0;34m\u001b[0m\u001b[0m\n",
      "\u001b[0;31mException\u001b[0m: gtsrcmaps failed to create file /nfs/farm/g/glast/g/catalog/pointlike/skymodels/P305_8years/FL8Y_v4/fermipy/srcmap_00.fits"
     ]
    }
   ],
   "source": [
    "self[0]._create_srcmaps()"
   ]
  }
 ],
 "metadata": {
  "kernelspec": {
   "display_name": "Python 2",
   "language": "python",
   "name": "python2"
  },
  "language_info": {
   "codemirror_mode": {
    "name": "ipython",
    "version": 2
   },
   "file_extension": ".py",
   "mimetype": "text/x-python",
   "name": "python",
   "nbconvert_exporter": "python",
   "pygments_lexer": "ipython2",
   "version": "2.7.14"
  }
 },
 "nbformat": 4,
 "nbformat_minor": 2
}
